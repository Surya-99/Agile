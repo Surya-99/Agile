{
  "nbformat": 4,
  "nbformat_minor": 0,
  "metadata": {
    "colab": {
      "provenance": []
    },
    "kernelspec": {
      "name": "python3",
      "display_name": "Python 3"
    },
    "language_info": {
      "name": "python"
    }
  },
  "cells": [
    {
      "cell_type": "code",
      "execution_count": 1,
      "metadata": {
        "id": "W07Ud7p_0GEN"
      },
      "outputs": [],
      "source": [
        "import pandas as pd"
      ]
    },
    {
      "cell_type": "code",
      "source": [
        "data1 = pd.read_excel('Input_1.xlsx')\n",
        "data2 = pd.read_excel('Input_2.xlsx')"
      ],
      "metadata": {
        "id": "-p67HlV00G6q"
      },
      "execution_count": 3,
      "outputs": []
    },
    {
      "cell_type": "code",
      "source": [
        "data1.drop(['S No'],axis=1,inplace=True)\n",
        "data2.drop(['S No'],axis=1,inplace=True)"
      ],
      "metadata": {
        "id": "4_ig0wsS0RZG"
      },
      "execution_count": 4,
      "outputs": []
    },
    {
      "cell_type": "code",
      "source": [
        "r=data2[['name','uid','total_statements','total_reasons']]\n",
        "r.rename(columns={'name':'Name','uid':'UID','total_statements':'No. of Statements','total_reasons':'No. of Reasons'},inplace=True)\n",
        "r=pd.DataFrame(r.sort_values(by=['No. of Statements','No. of Reasons','Name'],ascending=False))\n",
        "r['Rank']=r[['No. of Statements','No. of Reasons','Name']].apply(tuple,axis=1).rank(method='dense',ascending=False).astype(int)\n",
        "r=r[r.columns[[4,0,1,2,3]]]\n",
        "r.to_excel('output2.xlsx')"
      ],
      "metadata": {
        "colab": {
          "base_uri": "https://localhost:8080/"
        },
        "id": "t7wHPAgm0Zli",
        "outputId": "761d6868-b5e0-414b-fcf3-a347117a6989"
      },
      "execution_count": 6,
      "outputs": [
        {
          "output_type": "stream",
          "name": "stderr",
          "text": [
            "<ipython-input-6-b47a826d3984>:2: SettingWithCopyWarning: \n",
            "A value is trying to be set on a copy of a slice from a DataFrame\n",
            "\n",
            "See the caveats in the documentation: https://pandas.pydata.org/pandas-docs/stable/user_guide/indexing.html#returning-a-view-versus-a-copy\n",
            "  r.rename(columns={'name':'Name','uid':'UID','total_statements':'No. of Statements','total_reasons':'No. of Reasons'},inplace=True)\n"
          ]
        }
      ]
    },
    {
      "cell_type": "code",
      "source": [
        "data3= pd.merge(data1,data2,left_on='User ID',right_on='uid',how='left')\n",
        "data3.drop(['uid','name'],axis=1,inplace=True)\n",
        "data4=pd.DataFrame(data3.groupby(['Team Name'])['total_statements','total_reasons'].mean())\n",
        "data4['Rank']= data4[['total_statements','total_reasons']].apply(tuple,axis=1).rank(method='dense',ascending=False).astype(int)\n",
        "nms=['Rank','Team Name','total_statements','total_reasons']\n",
        "data4.reindex(columns=nms)\n",
        "data4=data4[data4.columns[[2,0,1]]]\n",
        "data4.rename(columns = {'total_statements':'Average Statements','total_reasons':'Average Reasons'}, inplace = True)\n",
        "data6=pd.DataFrame()\n",
        "data5=pd.DataFrame(data3.groupby(['Team Name']))\n",
        "data6['Thinking Team LeaderBoard']=data5[0]\n",
        "data4.index=[0,1,2,3,4,5,6,7]\n",
        "data4=pd.merge(data6, data4, left_index=True, right_index=True)\n",
        "data4=data4[data4.columns[[1,0,2,3]]]\n",
        "data4=pd.DataFrame(data4)\n",
        "data4=pd.DataFrame(data4.sort_values(by=['Rank']))\n",
        "data4['Average Reasons']=data4['Average Reasons'].round(2).astype(float)\n",
        "data4['Average Statements']=data4['Average Statements'].round(2).astype(float)\n",
        "data4.to_excel('output1.xlsx')"
      ],
      "metadata": {
        "colab": {
          "base_uri": "https://localhost:8080/"
        },
        "id": "xfzeFJPP0mR2",
        "outputId": "e26eceed-1d4e-4a28-edc4-d7a14901e7c6"
      },
      "execution_count": 9,
      "outputs": [
        {
          "output_type": "stream",
          "name": "stderr",
          "text": [
            "<ipython-input-9-9f97169d7ad1>:3: FutureWarning: Indexing with multiple keys (implicitly converted to a tuple of keys) will be deprecated, use a list instead.\n",
            "  data4=pd.DataFrame(data3.groupby(['Team Name'])['total_statements','total_reasons'].mean())\n",
            "<ipython-input-9-9f97169d7ad1>:10: FutureWarning: In a future version of pandas, a length 1 tuple will be returned when iterating over a groupby with a grouper equal to a list of length 1. Don't supply a list with a single grouper to avoid this warning.\n",
            "  data5=pd.DataFrame(data3.groupby(['Team Name']))\n"
          ]
        }
      ]
    },
    {
      "cell_type": "code",
      "source": [],
      "metadata": {
        "id": "J0fA54Yu1UMq"
      },
      "execution_count": null,
      "outputs": []
    }
  ]
}